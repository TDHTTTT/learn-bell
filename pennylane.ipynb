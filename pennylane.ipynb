{
 "cells": [
  {
   "cell_type": "markdown",
   "metadata": {},
   "source": [
    "# QOSF Mentorship Screening Task 2\n",
    "\n",
    "\n",
    "### Author\n",
    "Tony Tong\n",
    "\n",
    "### Question\n",
    "Task 2\n",
    "Implement a circuit that returns |01> and |10> with equal probability.\n",
    "Requirements :\n",
    "The circuit should consist only of CNOTs, RXs and RYs. \n",
    "Start from all parameters in parametric gates being equal to 0 or randomly chosen. \n",
    "You should find the right set of parameters using gradient descent (you can use more advanced optimization methods if you like). \n",
    "Simulations must be done with sampling (i.e. a limited number of measurements per iteration) and noise. \n",
    "\n",
    "Compare the results for different numbers of measurements: 1, 10, 100, 1000. \n",
    "\n",
    "#### Bonus\n",
    "How to make sure you produce state |01> + |10> and not |01> - |10> ?\n",
    "\n",
    "(Actually for more careful readers, the “correct” version of this question is posted below:\n",
    "How to make sure you produce state  |01⟩  +  |10⟩  and not any other combination of |01> + e(i*phi)|10⟩ (for example |01⟩  -  |10⟩)?)"
   ]
  },
  {
   "cell_type": "markdown",
   "metadata": {},
   "source": [
    "### Answer Summary\n",
    "$$|\\psi\\rangle=\\alpha|00\\rangle+\\beta|01\\rangle+\\gamma|10\\rangle+\\delta|11\\rangle$$\n",
    "\n",
    "$$\\left|\\beta\\right|^{2} = \\left|\\gamma\\right|^{2}$$\n",
    "\n",
    "Loss Function:\n",
    "$$\\left|\\left|\\beta\\right|^{2} - \\left|\\gamma\\right|^{2}\\right|^{2}$$"
   ]
  },
  {
   "cell_type": "code",
   "execution_count": 1,
   "metadata": {},
   "outputs": [],
   "source": [
    "import pennylane as qml\n",
    "from pennylane import numpy as np\n",
    "\n",
    "n_wires = 2\n",
    "\n",
    "dev = qml.device(\"default.qubit\", analytic=True, wires=2)"
   ]
  },
  {
   "cell_type": "code",
   "execution_count": 2,
   "metadata": {},
   "outputs": [],
   "source": [
    "# calculation as described above\n",
    "def opt_theta(d, params, cost):\n",
    "    params[d] = 0.0\n",
    "    M_0 = cost(params)\n",
    "    params[d] = np.pi / 2.0\n",
    "    M_0_plus = cost(params)\n",
    "    params[d] = -np.pi / 2.0\n",
    "    M_0_minus = cost(params)\n",
    "    a = np.arctan2(\n",
    "        2.0 * M_0 - M_0_plus - M_0_minus, M_0_plus - M_0_minus\n",
    "    )  # returns value in (-pi,pi]\n",
    "    params[d] = -np.pi / 2.0 - a\n",
    "    # restrict output to lie in (-pi,pi], a convention\n",
    "    # consistent with the Rotosolve paper\n",
    "    if params[d] <= -np.pi:\n",
    "        params[d] += 2 * np.pi\n",
    "\n",
    "\n",
    "# one cycle of rotosolve\n",
    "def rotosolve_cycle(cost, params):\n",
    "    for d in range(len(params)):\n",
    "        opt_theta(d, params, cost)\n",
    "    return params"
   ]
  },
  {
   "cell_type": "code",
   "execution_count": 3,
   "metadata": {},
   "outputs": [],
   "source": [
    "def ansatz(params):\n",
    "    qml.RX(params[0], wires=0)\n",
    "    qml.RY(params[1], wires=1)\n",
    "    qml.CNOT(wires=[0, 1])\n",
    "    qml.RX(params[2], wires=1)\n",
    "    qml.RY(params[3], wires=0)\n",
    "\n",
    "@qml.qnode(dev)\n",
    "def circuit(params):\n",
    "    ansatz(params)\n",
    "    return qml.probs(wires=[0,1])\n",
    "    #return qml.expval(qml.PauliZ(0)), qml.expval(qml.PauliZ(1))\n",
    "    \n",
    "def cost(params):\n",
    "    #x, y = circuit(params)\n",
    "    ps = circuit(params)\n",
    "    return (abs(ps[1]-0.5))**2 + (abs(ps[2]-0.5))**2 + 10*(abs(ps[0]))**2 + 10*(abs(ps[3]))**2\n",
    "    #return (abs(x-y))**2"
   ]
  },
  {
   "cell_type": "code",
   "execution_count": 4,
   "metadata": {},
   "outputs": [],
   "source": [
    "from scipy.stats import truncnorm\n",
    "\n",
    "def get_truncated_normal(mean=0, sd=1, low=0, upp=10):\n",
    "    return truncnorm(\n",
    "        (low - mean) / sd, (upp - mean) / sd, loc=mean, scale=sd)"
   ]
  },
  {
   "cell_type": "code",
   "execution_count": 6,
   "metadata": {},
   "outputs": [
    {
     "name": "stdout",
     "output_type": "stream",
     "text": [
      "[1.4310434178043598, 0.6136235647652082, 1.7943747309799116, -0.2522728019291303]\n"
     ]
    }
   ],
   "source": [
    "init_params = list(get_truncated_normal(0,1,-np.pi,np.pi).rvs(4))\n",
    "print(init_params)\n",
    "params_rsol = init_params.copy()\n",
    "n_steps = 50\n",
    "\n",
    "costs_rotosolve = []\n",
    "\n",
    "for i in range(n_steps):\n",
    "    costs_rotosolve.append(cost(params_rsol))\n",
    "    params_rsol = rotosolve_cycle(cost, params_rsol)"
   ]
  },
  {
   "cell_type": "code",
   "execution_count": null,
   "metadata": {},
   "outputs": [],
   "source": [
    "params_gd = init_params.copy()\n",
    "opt = qml.GradientDescentOptimizer(stepsize=0.5)\n",
    "costs_gd = []\n",
    "for i in range(n_steps):\n",
    "    costs_gd.append(cost(params_gd))\n",
    "    params_gd = opt.step(cost, params_gd)"
   ]
  },
  {
   "cell_type": "code",
   "execution_count": 8,
   "metadata": {},
   "outputs": [
    {
     "data": {
      "image/png": "[encoded data removed]",
      "text/plain": [
       "<Figure size 504x216 with 2 Axes>"
      ]
     },
     "metadata": {
      "needs_background": "light"
     },
     "output_type": "display_data"
    }
   ],
   "source": [
    "# plot cost function optimization using the 2 techniques\n",
    "import matplotlib.pyplot as plt\n",
    "\n",
    "steps = np.arange(0, n_steps)\n",
    "fig, (ax1, ax2) = plt.subplots(1, 2, figsize=(7, 3))\n",
    "plt.subplot(1, 2, 1)\n",
    "plt.plot(steps, costs_gd, \"o-\")\n",
    "plt.title(\"grad. desc.\")\n",
    "plt.xlabel(\"steps\")\n",
    "plt.ylabel(\"cost\")\n",
    "plt.subplot(1, 2, 2)\n",
    "plt.plot(steps, costs_rotosolve, \"o-\")\n",
    "plt.title(\"rotosolve\")\n",
    "plt.xlabel(\"cycles\")\n",
    "plt.ylabel(\"cost\")\n",
    "plt.tight_layout()\n",
    "plt.show()"
   ]
  },
  {
   "cell_type": "code",
   "execution_count": 9,
   "metadata": {},
   "outputs": [
    {
     "name": "stdout",
     "output_type": "stream",
     "text": [
      "[3.141592653589793, 0.0, 3.141592653589793, 0.0]\n",
      "[1.5707963344118372, 0.11242372840322586, 2.3562227760180576, -0.7997822969199591]\n",
      "[1.40579963e-65 3.74939946e-33 1.00000000e+00 3.74939946e-33]\n",
      "[0.00160402 0.49839597 0.49839598 0.00160402]\n"
     ]
    }
   ],
   "source": [
    "print(params_rsol)\n",
    "print(params_gd)\n",
    "print(circuit(params_rsol))\n",
    "print(circuit(params_gd))"
   ]
  },
  {
   "cell_type": "code",
   "execution_count": null,
   "metadata": {},
   "outputs": [],
   "source": []
  }
 ],
 "metadata": {
  "kernelspec": {
   "display_name": "Python 3",
   "language": "python",
   "name": "python3"
  },
  "language_info": {
   "codemirror_mode": {
    "name": "ipython",
    "version": 3
   },
   "file_extension": ".py",
   "mimetype": "text/x-python",
   "name": "python",
   "nbconvert_exporter": "python",
   "pygments_lexer": "ipython3",
   "version": "3.6.12"
  }
 },
 "nbformat": 4,
 "nbformat_minor": 4
}
